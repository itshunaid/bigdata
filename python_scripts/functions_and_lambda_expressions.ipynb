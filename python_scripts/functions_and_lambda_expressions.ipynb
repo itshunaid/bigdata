{
  "nbformat": 4,
  "nbformat_minor": 0,
  "metadata": {
    "colab": {
      "name": "functions_and_lambda_expressions.ipynb",
      "provenance": []
    },
    "kernelspec": {
      "name": "python3",
      "display_name": "Python 3"
    },
    "language_info": {
      "name": "python"
    }
  },
  "cells": [
    {
      "cell_type": "code",
      "metadata": {
        "id": "3G7mrOW0gUw2"
      },
      "source": [
        "\n",
        "def my_function():\n",
        " print(\"with in a function\")"
      ],
      "execution_count": 1,
      "outputs": []
    },
    {
      "cell_type": "code",
      "metadata": {
        "colab": {
          "base_uri": "https://localhost:8080/"
        },
        "id": "zPK1LnN3gjX8",
        "outputId": "ffb5e1c9-ffe3-4057-bd48-df1bc18ae48c"
      },
      "source": [
        "my_function()\n"
      ],
      "execution_count": 2,
      "outputs": [
        {
          "output_type": "stream",
          "name": "stdout",
          "text": [
            "with in a function\n"
          ]
        }
      ]
    },
    {
      "cell_type": "code",
      "metadata": {
        "id": "VMTpBbGXguKy"
      },
      "source": [
        "def calculate_sum(a,b):\n",
        " return a+b;"
      ],
      "execution_count": 5,
      "outputs": []
    },
    {
      "cell_type": "code",
      "metadata": {
        "colab": {
          "base_uri": "https://localhost:8080/"
        },
        "id": "MrvPFNMMgxzq",
        "outputId": "f9e5dce4-2935-4d7c-f622-0ba3bc60981a"
      },
      "source": [
        "\n",
        "print(calculate_sum(4,5))"
      ],
      "execution_count": 6,
      "outputs": [
        {
          "output_type": "stream",
          "name": "stdout",
          "text": [
            "9\n"
          ]
        }
      ]
    },
    {
      "cell_type": "code",
      "metadata": {
        "id": "08WOZeeKg70q"
      },
      "source": [
        "def calculate_sum_multiplication(a,b):\n",
        " return a+b, a*b"
      ],
      "execution_count": 7,
      "outputs": []
    },
    {
      "cell_type": "code",
      "metadata": {
        "id": "u65sKHnNhAMS"
      },
      "source": [
        "var_sum, var_mult= calculate_sum_multiplication(10,3)"
      ],
      "execution_count": 8,
      "outputs": []
    },
    {
      "cell_type": "code",
      "metadata": {
        "colab": {
          "base_uri": "https://localhost:8080/"
        },
        "id": "EtpgzGyHhE0y",
        "outputId": "5967014a-f6b6-45f1-e7f8-2544cb1d027a"
      },
      "source": [
        "print(var_sum)\n",
        "print(var_mult)"
      ],
      "execution_count": 9,
      "outputs": [
        {
          "output_type": "stream",
          "name": "stdout",
          "text": [
            "13\n",
            "30\n"
          ]
        }
      ]
    },
    {
      "cell_type": "code",
      "metadata": {
        "id": "CwjXHuwZhRzh"
      },
      "source": [
        "my_var = lambda x : x+100"
      ],
      "execution_count": 10,
      "outputs": []
    },
    {
      "cell_type": "code",
      "metadata": {
        "colab": {
          "base_uri": "https://localhost:8080/"
        },
        "id": "TE0u_JV4haRh",
        "outputId": "9850158d-478f-4f9f-8146-b12e547b723d"
      },
      "source": [
        "print(my_var(10))"
      ],
      "execution_count": 11,
      "outputs": [
        {
          "output_type": "stream",
          "name": "stdout",
          "text": [
            "110\n"
          ]
        }
      ]
    },
    {
      "cell_type": "code",
      "metadata": {
        "id": "lkPzMu96ha65"
      },
      "source": [
        "my_var= lambda a,b : a+b"
      ],
      "execution_count": 12,
      "outputs": []
    },
    {
      "cell_type": "code",
      "metadata": {
        "colab": {
          "base_uri": "https://localhost:8080/"
        },
        "id": "wUx68iE8hmJY",
        "outputId": "6c03d7b9-f2aa-4a7c-d380-5947278d96cd"
      },
      "source": [
        "print(my_var(10,5))"
      ],
      "execution_count": 13,
      "outputs": [
        {
          "output_type": "stream",
          "name": "stdout",
          "text": [
            "15\n"
          ]
        }
      ]
    }
  ]
}